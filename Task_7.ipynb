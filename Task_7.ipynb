{
 "cells": [
  {
   "cell_type": "code",
   "execution_count": 1,
   "metadata": {},
   "outputs": [],
   "source": [
    "import cv2"
   ]
  },
  {
   "cell_type": "code",
   "execution_count": 2,
   "metadata": {},
   "outputs": [],
   "source": [
    "cap = cv2.VideoCapture(0)"
   ]
  },
  {
   "cell_type": "code",
   "execution_count": 3,
   "metadata": {},
   "outputs": [],
   "source": [
    "model = cv2.CascadeClassifier('haarcascade_frontalface_default.xml')"
   ]
  },
  {
   "cell_type": "code",
   "execution_count": 4,
   "metadata": {},
   "outputs": [],
   "source": [
    "ret,photo = cap.read()"
   ]
  },
  {
   "cell_type": "code",
   "execution_count": 5,
   "metadata": {},
   "outputs": [
    {
     "data": {
      "text/plain": [
       "array([[[255, 239, 252],\n",
       "        [255, 253, 255],\n",
       "        [255, 252, 255],\n",
       "        ...,\n",
       "        [ 18,  27,  74],\n",
       "        [ 19,  27,  74],\n",
       "        [ 19,  27,  74]],\n",
       "\n",
       "       [[255, 254, 255],\n",
       "        [255, 253, 255],\n",
       "        [255, 253, 255],\n",
       "        ...,\n",
       "        [ 23,  26,  79],\n",
       "        [ 20,  25,  73],\n",
       "        [ 18,  23,  70]],\n",
       "\n",
       "       [[255, 255, 255],\n",
       "        [255, 253, 255],\n",
       "        [255, 251, 255],\n",
       "        ...,\n",
       "        [ 21,  26,  81],\n",
       "        [ 13,  24,  75],\n",
       "        [ 13,  24,  75]],\n",
       "\n",
       "       ...,\n",
       "\n",
       "       [[242, 240, 240],\n",
       "        [241, 238, 239],\n",
       "        [241, 238, 239],\n",
       "        ...,\n",
       "        [  0,   0,   0],\n",
       "        [  0,   0,   1],\n",
       "        [  0,   0,   0]],\n",
       "\n",
       "       [[243, 241, 241],\n",
       "        [241, 240, 239],\n",
       "        [240, 240, 238],\n",
       "        ...,\n",
       "        [  0,   0,   0],\n",
       "        [  0,   0,   0],\n",
       "        [  0,   0,   0]],\n",
       "\n",
       "       [[244, 242, 242],\n",
       "        [242, 241, 241],\n",
       "        [240, 240, 240],\n",
       "        ...,\n",
       "        [  0,   0,   0],\n",
       "        [  0,   0,   0],\n",
       "        [  0,   0,   0]]], dtype=uint8)"
      ]
     },
     "execution_count": 5,
     "metadata": {},
     "output_type": "execute_result"
    }
   ],
   "source": [
    "photo"
   ]
  },
  {
   "cell_type": "code",
   "execution_count": null,
   "metadata": {},
   "outputs": [],
   "source": []
  },
  {
   "cell_type": "code",
   "execution_count": 6,
   "metadata": {},
   "outputs": [],
   "source": [
    "while True:\n",
    "    ret,video=cap.read()\n",
    "    \n",
    "    face = model.detectMultiScale(video)\n",
    "    if len(face)==0:\n",
    "        print(\"no face found\")\n",
    "    else:\n",
    "        \n",
    "        x=face[0][0]\n",
    "        y=face[0][1]\n",
    "        x1=x+face[0][2]\n",
    "        y1=y+face[0][3]\n",
    "        #x,y,x1,y1 = face\n",
    "        video_face=cv2.rectangle(video,(x,y),(x1,y1),[0,255,0],5)\n",
    "        #cv2.imshow(\"original\",video_face)\n",
    "        #crop_video = video[y:y+y1,x:x+x1]\n",
    "        video_face[y:y+y1,x:x+x1]=cv2.GaussianBlur(video_face[y:y+y1,x:x+x1],(3,65),25)\n",
    "        \n",
    "    \n",
    "    \n",
    "    \n",
    "    #crop_video = video[y1:y2,x1:x2]\n",
    "        cv2.imshow(\"cropped_video\",video_face)\n",
    "        if cv2.waitKey(100)==13:\n",
    "            break\n",
    "cv2.destroyAllWindows()"
   ]
  },
  {
   "cell_type": "code",
   "execution_count": 7,
   "metadata": {},
   "outputs": [],
   "source": [
    "cap.release()"
   ]
  },
  {
   "cell_type": "code",
   "execution_count": null,
   "metadata": {},
   "outputs": [],
   "source": []
  },
  {
   "cell_type": "code",
   "execution_count": null,
   "metadata": {},
   "outputs": [],
   "source": []
  },
  {
   "cell_type": "code",
   "execution_count": null,
   "metadata": {},
   "outputs": [],
   "source": []
  },
  {
   "cell_type": "code",
   "execution_count": null,
   "metadata": {},
   "outputs": [],
   "source": []
  },
  {
   "cell_type": "code",
   "execution_count": null,
   "metadata": {},
   "outputs": [],
   "source": []
  },
  {
   "cell_type": "code",
   "execution_count": null,
   "metadata": {},
   "outputs": [],
   "source": []
  },
  {
   "cell_type": "code",
   "execution_count": null,
   "metadata": {},
   "outputs": [],
   "source": []
  },
  {
   "cell_type": "code",
   "execution_count": null,
   "metadata": {},
   "outputs": [],
   "source": []
  },
  {
   "cell_type": "code",
   "execution_count": null,
   "metadata": {},
   "outputs": [],
   "source": []
  },
  {
   "cell_type": "code",
   "execution_count": null,
   "metadata": {},
   "outputs": [],
   "source": []
  },
  {
   "cell_type": "code",
   "execution_count": null,
   "metadata": {},
   "outputs": [],
   "source": []
  }
 ],
 "metadata": {
  "kernelspec": {
   "display_name": "Python 3",
   "language": "python",
   "name": "python3"
  },
  "language_info": {
   "codemirror_mode": {
    "name": "ipython",
    "version": 3
   },
   "file_extension": ".py",
   "mimetype": "text/x-python",
   "name": "python",
   "nbconvert_exporter": "python",
   "pygments_lexer": "ipython3",
   "version": "3.8.3"
  }
 },
 "nbformat": 4,
 "nbformat_minor": 4
}
